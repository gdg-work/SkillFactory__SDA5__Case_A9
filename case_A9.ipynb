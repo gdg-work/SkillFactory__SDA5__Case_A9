{
 "cells": [
  {
   "cell_type": "code",
   "execution_count": 42,
   "metadata": {},
   "outputs": [],
   "source": [
    "import psycopg2\n",
    "import pandas as pd\n",
    "import matplotlib as mpl\n",
    "import matplotlib.pyplot as plt\n",
    "import seaborn as sns\n",
    "from psycopg2.extras import NamedTupleCursor\n",
    "from Local_DB import DB_NAME, DB_HOST, DB_PORT, DB_USER, DB_PASSWD\n",
    "\n",
    "plt.ioff()\n",
    "sns.set(style='white')"
   ]
  },
  {
   "cell_type": "code",
   "execution_count": 2,
   "metadata": {},
   "outputs": [],
   "source": [
    "DB_CONNECT_STRING = \"dbname={0} host={1} port={2} user={3} password={4}\".format(\n",
    "    DB_NAME, DB_HOST, DB_PORT, DB_USER, DB_PASSWD\n",
    ")\n",
    "START_DATE = '2019-06-01'   # this day will be included\n",
    "END_DATE   = '2019-06-30'   # and this also will be (we have dates only, not times)\n",
    "\n",
    "PREV_START_DATE = '2019-05-01'  # start and stop dates for May's data to compare\n",
    "PREV_END_DATE   = '2019-05-31'"
   ]
  },
  {
   "cell_type": "markdown",
   "metadata": {},
   "source": [
    "В нашу задачу входит сравнение мая и июня, поэтому каждое CTE будет в двух вариантах: для майских пользователей и для июньских.  Варианты делаются из одного шаблона.  Ниже будут определяться дополнительные CTE."
   ]
  },
  {
   "cell_type": "code",
   "execution_count": 3,
   "metadata": {},
   "outputs": [],
   "source": [
    "# template for SQL expression: all users registered btw two dates list\n",
    "USERS_CTE_TMPL = \"\"\" {0} as (\n",
    "SELECT DISTINCT user_id, registration_date\n",
    "    FROM case9.registration\n",
    "    WHERE registration_date between '{1}' AND '{2}')\n",
    "\"\"\"\n",
    "\n",
    "JUN_USERS_CTE = USERS_CTE_TMPL.format('users_jun19', START_DATE, END_DATE)\n",
    "MAY_USERS_CTE = USERS_CTE_TMPL.format('users_may19', PREV_START_DATE, PREV_END_DATE)"
   ]
  },
  {
   "cell_type": "code",
   "execution_count": 4,
   "metadata": {},
   "outputs": [],
   "source": [
    "# functions\n",
    "def init_connect(conn_string) -> psycopg2.extensions.cursor:\n",
    "    db_conn = psycopg2.connect(conn_string, cursor_factory=NamedTupleCursor)\n",
    "    cursor = None\n",
    "    if db_conn:\n",
    "        db_conn.set_session(readonly=True,autocommit=True)\n",
    "        cursor = db_conn.cursor()\n",
    "    return cursor"
   ]
  },
  {
   "cell_type": "code",
   "execution_count": 5,
   "metadata": {},
   "outputs": [],
   "source": [
    "def _format_select(ctes: \"list of CTEs\", select: \"SQL select\") -> str:\n",
    "    \"\"\"Форматирует SQL запрос из списка CTE и выражения 'select', заданных соответственно первым\n",
    "    и вторым параметрами\"\"\"\n",
    "    query = ( \"with \" + \", \".join(ctes) + \" \" + select)\n",
    "    if query[-1] != ';':\n",
    "        query = query + ';'\n",
    "    return query"
   ]
  },
  {
   "cell_type": "code",
   "execution_count": 6,
   "metadata": {},
   "outputs": [],
   "source": [
    "def simple_query(cursor: \"PsycoPg2 DB cursor\", \n",
    "                 ctes: \"list of CTEs\", \n",
    "                 select: \"select sql query as a string\") -> str:\n",
    "    \"\"\"Запрос, после которого из базы возвращается одна строка, м.б. с несколькими полями.\n",
    "    Параметры: 1) курсор базы, 2) SQL запрос\n",
    "    Запрос должен возвращать одну строку (или возвращается первая строка)\n",
    "    Возвращает: результат запроса\n",
    "    Возможен возврат None.\n",
    "    \"\"\"\n",
    "    query = _format_select(ctes, select)\n",
    "    # print(\"*DBG* simple_query will execute:\\n\" + query)\n",
    "    cursor.execute(query)\n",
    "    first_line = cursor.fetchone()\n",
    "    __ = cursor.fetchall()  # discard remaining lines\n",
    "    return first_line"
   ]
  },
  {
   "cell_type": "code",
   "execution_count": 7,
   "metadata": {},
   "outputs": [],
   "source": [
    "def multiline_query(cursor: \"Database cursor\", ctes: \"list of CTEs\", \n",
    "                    select: \"select sql query as a string\") -> list:\n",
    "    \"\"\"Запрос, возвращающий из базы много данных.\n",
    "    Параметры: 1) Курсор PsycoPg2, 3) запрос SQL в виде строки.\n",
    "    Возвращает: список Named Tuple-ов -- результат запроса. Если результатов\n",
    "    нет, будет возвращён None.\"\"\"\n",
    "    query = _format_select(ctes, select)\n",
    "    # print(\"*DBG* multiline_query will execute:\\n\" + query)\n",
    "    cursor.execute(query)\n",
    "    return cursor.fetchall()"
   ]
  },
  {
   "cell_type": "code",
   "execution_count": 8,
   "metadata": {},
   "outputs": [],
   "source": [
    "cursor = init_connect(DB_CONNECT_STRING)"
   ]
  },
  {
   "cell_type": "markdown",
   "metadata": {},
   "source": [
    "## Повторяем то, что написано в учебнике"
   ]
  },
  {
   "cell_type": "code",
   "execution_count": 9,
   "metadata": {},
   "outputs": [
    {
     "name": "stdout",
     "output_type": "stream",
     "text": [
      "Record(count=100423)\n"
     ]
    }
   ],
   "source": [
    "users_count =  simple_query(cursor, [JUN_USERS_CTE],\n",
    "                          'select count(user_id) from users_jun19;')\n",
    "print(users_count)"
   ]
  },
  {
   "cell_type": "markdown",
   "metadata": {},
   "source": [
    "Использование DISTINCT под count() ничего не меняет, что означает, что дважды зарегистрированных пользователей с одним ID не бывает.  Запомним на будущее."
   ]
  },
  {
   "cell_type": "code",
   "execution_count": 10,
   "metadata": {},
   "outputs": [
    {
     "name": "stdout",
     "output_type": "stream",
     "text": [
      "[Record(user_id='000032c7-0fc4-4382-bdc9-52891fe79077', registration_date=datetime.date(2019, 6, 4)), Record(user_id='0000ca0e-154f-41e7-a391-0e5a2fef11b4', registration_date=datetime.date(2019, 6, 8)), Record(user_id='00018971-c30b-4898-8d0d-8e6f43108ec8', registration_date=datetime.date(2019, 6, 16))]\n"
     ]
    }
   ],
   "source": [
    "cursor = init_connect(DB_CONNECT_STRING)\n",
    "users_count =  multiline_query(cursor, [JUN_USERS_CTE],\n",
    "                          'select * from users_jun19 limit 3;')\n",
    "print(users_count)"
   ]
  },
  {
   "cell_type": "code",
   "execution_count": 11,
   "metadata": {},
   "outputs": [],
   "source": [
    "COHORTS_TMPL = \"\"\"{0} as (\n",
    "    SELECT \n",
    "        ac.activity_date,\n",
    "        u.registration_date,\n",
    "        count(distinct(user_id)) as active_users_count\n",
    "    FROM  case9.user_activity ac\n",
    "    JOIN  {1} as u\n",
    "    USING (user_id)\n",
    "    GROUP BY ac.activity_date, u.registration_date\n",
    ")\"\"\"\n",
    "\n",
    "JUN_COHORTS_CTE = COHORTS_TMPL.format('cohorts_jun19', 'users_jun19')\n",
    "MAY_COHORTS_CTE = COHORTS_TMPL.format('cohorts_may19', 'users_may19')"
   ]
  },
  {
   "cell_type": "code",
   "execution_count": 12,
   "metadata": {},
   "outputs": [
    {
     "data": {
      "text/plain": [
       "[Record(activity_date=datetime.date(2019, 6, 1), registration_date=datetime.date(2019, 6, 1), active_users_count=1651),\n",
       " Record(activity_date=datetime.date(2019, 6, 2), registration_date=datetime.date(2019, 6, 1), active_users_count=1429),\n",
       " Record(activity_date=datetime.date(2019, 6, 2), registration_date=datetime.date(2019, 6, 2), active_users_count=1933)]"
      ]
     },
     "execution_count": 12,
     "metadata": {},
     "output_type": "execute_result"
    }
   ],
   "source": [
    "multiline_query(cursor, [JUN_USERS_CTE, JUN_COHORTS_CTE], \"SELECT * from cohorts_jun19 limit 3;\")"
   ]
  },
  {
   "cell_type": "markdown",
   "metadata": {},
   "source": [
    "Какое количество активных пользователей было зафиксировано на 10 июня 2019 для пользователей, зарегистрировавшихся 1 июня 2019 г.?"
   ]
  },
  {
   "cell_type": "code",
   "execution_count": 13,
   "metadata": {},
   "outputs": [
    {
     "data": {
      "text/plain": [
       "483"
      ]
     },
     "execution_count": 13,
     "metadata": {},
     "output_type": "execute_result"
    }
   ],
   "source": [
    "simple_query(cursor, [JUN_USERS_CTE, JUN_COHORTS_CTE], \n",
    "         \"\"\"SELECT active_users_count from cohorts_jun19 \n",
    "             WHERE registration_date='2019-06-01' \n",
    "                 AND activity_date='2019-06-10';\"\"\")[0]"
   ]
  },
  {
   "cell_type": "markdown",
   "metadata": {},
   "source": [
    "### Определение Retention Rate"
   ]
  },
  {
   "cell_type": "markdown",
   "metadata": {},
   "source": [
    "Для определения retention rate предлагается объединять датафреймы в памяти. У меня ещё никаких датафреймов нет, и вообще джойнить таблицы - это работа сервера БД.  Ему нужно только всё правильно объяснить. Для начала сделаю CTE для таблицы \"дата регистрации - количество зарегистрированных пользователей\"."
   ]
  },
  {
   "cell_type": "code",
   "execution_count": 14,
   "metadata": {},
   "outputs": [],
   "source": [
    "USERS_BY_REGDATE_TMPL = \"\"\"{0} as (\n",
    "    SELECT registration_date, count(user_id) as registered_users_count\n",
    "    FROM {1}\n",
    "    GROUP BY registration_date\n",
    "    ORDER BY registration_date\n",
    ")\"\"\"\n",
    "\n",
    "JUN_USERS_BY_REGDATE_CTE = USERS_BY_REGDATE_TMPL.format(\"users_by_registration_date_jun19\", \"users_jun19\")\n",
    "MAY_USERS_BY_REGDATE_CTE = USERS_BY_REGDATE_TMPL.format(\"users_by_registration_date_may19\", \"users_may19\")"
   ]
  },
  {
   "cell_type": "markdown",
   "metadata": {},
   "source": [
    "Проверю, что выдаются осмысленные результаты:"
   ]
  },
  {
   "cell_type": "code",
   "execution_count": 15,
   "metadata": {},
   "outputs": [
    {
     "data": {
      "text/plain": [
       "[Record(registration_date=datetime.date(2019, 6, 1), registered_users_count=4833),\n",
       " Record(registration_date=datetime.date(2019, 6, 2), registered_users_count=5255),\n",
       " Record(registration_date=datetime.date(2019, 6, 3), registered_users_count=4193)]"
      ]
     },
     "execution_count": 15,
     "metadata": {},
     "output_type": "execute_result"
    }
   ],
   "source": [
    "multiline_query(cursor, [JUN_USERS_CTE, JUN_USERS_BY_REGDATE_CTE], \n",
    "                \"SELECT * from users_by_registration_date_jun19 limit 3;\")"
   ]
  },
  {
   "cell_type": "markdown",
   "metadata": {},
   "source": [
    "И напишу выражение для объединения таблиц.  Сразу посчитаю retention_rate и lifetime (кол-во дней с момента регистрации)."
   ]
  },
  {
   "cell_type": "code",
   "execution_count": 16,
   "metadata": {},
   "outputs": [],
   "source": [
    "MONTH_RETENTION_TMPL = \"\"\"{0} as (\n",
    "    SELECT \n",
    "        activity_date, \n",
    "        registration_date, \n",
    "        registered_users_count, \n",
    "        active_users_count,\n",
    "        active_users_count*1.0 / registered_users_count as retention_rate,\n",
    "        activity_date - registration_date as lifetime\n",
    "    FROM {1}\n",
    "    JOIN {2}\n",
    "    USING (registration_date) \n",
    ")\"\"\"\n",
    "\n",
    "JUN_RETENTION_CTE = MONTH_RETENTION_TMPL.format('retention_jun19', 'cohorts_jun19', \n",
    "                                               'users_by_registration_date_jun19')\n",
    "MAY_RETENTION_CTE = MONTH_RETENTION_TMPL.format('retention_may19', 'cohorts_may19', \n",
    "                                               'users_by_registration_date_may19')"
   ]
  },
  {
   "cell_type": "code",
   "execution_count": 17,
   "metadata": {},
   "outputs": [
    {
     "data": {
      "text/plain": [
       "[Record(activity_date=datetime.date(2019, 6, 1), registration_date=datetime.date(2019, 6, 1), registered_users_count=4833, active_users_count=1651, retention_rate=Decimal('0.34160976619077177736'), lifetime=0),\n",
       " Record(activity_date=datetime.date(2019, 6, 2), registration_date=datetime.date(2019, 6, 1), registered_users_count=4833, active_users_count=1429, retention_rate=Decimal('0.29567556383198841299'), lifetime=1),\n",
       " Record(activity_date=datetime.date(2019, 6, 2), registration_date=datetime.date(2019, 6, 2), registered_users_count=5255, active_users_count=1933, retention_rate=Decimal('0.36784015223596574691'), lifetime=0)]"
      ]
     },
     "execution_count": 17,
     "metadata": {},
     "output_type": "execute_result"
    }
   ],
   "source": [
    "multiline_query(cursor, [JUN_USERS_CTE, JUN_COHORTS_CTE, JUN_USERS_BY_REGDATE_CTE, JUN_RETENTION_CTE], \n",
    "                \"SELECT * from retention_jun19 LIMIT 3;\")"
   ]
  },
  {
   "cell_type": "markdown",
   "metadata": {},
   "source": [
    "Какой Retention Rate наблюдается на 18 июня 2019 г. у пользователей когорты, зарегистрировавшихся 3 июня 2019 г.? Ответ дайте в процентах с точностью до двух знаков после точки-разделителя."
   ]
  },
  {
   "cell_type": "code",
   "execution_count": 18,
   "metadata": {},
   "outputs": [
    {
     "data": {
      "text/plain": [
       "Decimal('7.68')"
      ]
     },
     "execution_count": 18,
     "metadata": {},
     "output_type": "execute_result"
    }
   ],
   "source": [
    "simple_query(cursor, [JUN_USERS_CTE, JUN_COHORTS_CTE, JUN_USERS_BY_REGDATE_CTE, JUN_RETENTION_CTE], \n",
    "                \"\"\"SELECT round(retention_rate*100,2) AS retention_pct \n",
    "                FROM retention_jun19 \n",
    "                WHERE activity_date='2019-06-18' AND registration_date='2019-06-03';\n",
    "                \"\"\")[0]"
   ]
  },
  {
   "cell_type": "markdown",
   "metadata": {},
   "source": [
    "Теперь сформируем сводную таблицу.\n",
    "\n",
    "Агрегировать особо нечего, но в конечном итоге нужно получить таблицу, где строки -- дата регистрации, а колонки - lifetime. Исследумый месяц -- июнь, поэтому получится 30 строк (1-30 июня).  Сколько будет колонок, пока неизвестно, но узнать стоит.  Спрашиваю базу:"
   ]
  },
  {
   "cell_type": "code",
   "execution_count": 19,
   "metadata": {},
   "outputs": [
    {
     "data": {
      "text/plain": [
       "Record(max_lt=30)"
      ]
     },
     "execution_count": 19,
     "metadata": {},
     "output_type": "execute_result"
    }
   ],
   "source": [
    "simple_query(cursor, [JUN_USERS_CTE, JUN_COHORTS_CTE, JUN_USERS_BY_REGDATE_CTE, JUN_RETENTION_CTE], \n",
    "                \"SELECT max(lifetime) as max_lt from retention_jun19\")"
   ]
  },
  {
   "cell_type": "markdown",
   "metadata": {},
   "source": [
    "Матрица 30×31 -- это меньше 1000 значений, считываю данные в датафрейм:"
   ]
  },
  {
   "cell_type": "code",
   "execution_count": 20,
   "metadata": {},
   "outputs": [
    {
     "name": "stdout",
     "output_type": "stream",
     "text": [
      "  registration_date  lifetime  registered_users_count  active_users_count  \\\n",
      "0        2019-06-01         0                    4833                1651   \n",
      "1        2019-06-01         1                    4833                1429   \n",
      "2        2019-06-01         2                    4833                1021   \n",
      "\n",
      "           retention_rate  \n",
      "0  0.34160976619077177736  \n",
      "1  0.29567556383198841299  \n",
      "2  0.21125594868611628388  \n"
     ]
    }
   ],
   "source": [
    "retention_df = pd.DataFrame(multiline_query(cursor, \n",
    "        [JUN_USERS_CTE, JUN_COHORTS_CTE, JUN_USERS_BY_REGDATE_CTE, JUN_RETENTION_CTE],\n",
    "        \"\"\"SELECT registration_date, lifetime, registered_users_count, active_users_count, retention_rate \n",
    "           FROM retention_jun19 \n",
    "           ORDER BY registration_date, lifetime \n",
    "        \"\"\"))\n",
    "print(retention_df.head(3))"
   ]
  },
  {
   "cell_type": "markdown",
   "metadata": {},
   "source": [
    "Получили таблицу в \"длинном\" формате, да ещё значения даты и `retention_rate` строковые (`object`). Для того, чтобы повторить изображённый в учебнике heatmap, нужно преобразовать данные и перевести таблицу в \"широкий\" формат.  Буду делать это больше одного раза (для майских и для июньских данных), поэтому нужно создать функцию."
   ]
  },
  {
   "cell_type": "code",
   "execution_count": 21,
   "metadata": {},
   "outputs": [],
   "source": [
    "def _fmt_date_and_set_idx(df: 'Pandas dataframe with columns \"registration date\" and \"lifetime\"') -> pd.DataFrame:\n",
    "    \"\"\"Внутренняя функция, преобразует формат даты и формирует мультииндекс\"\"\"\n",
    "    df['registration_date'] = pd.to_datetime(df.registration_date)\n",
    "    df = df.set_index(['registration_date', 'lifetime'])\n",
    "    return df\n",
    "\n",
    "def retention_df_cleanup(df: \"Pandas dataframe with retention data\") -> pd.DataFrame:\n",
    "    \"\"\"Преобразование типов данных для расчёта Retention Rate. Параметры: 1) Датафрейм с данными из базы\n",
    "    Возвращает: тот же датафрейм, но с преобразованными параметрами и созданным иерерхическим индексом\n",
    "    \"дата регистрации - время жизни\"\n",
    "    \"\"\"\n",
    "    df['retention_rate'] = df.retention_rate.astype('float')\n",
    "    return _fmt_date_and_set_idx(df)\n",
    "\n",
    "# Нам понадобится аналогичная функция для датафрейма, который используется при расчёте ARPU, revenue и т.п.\n",
    "def revenue_df_cleanup(df: \"Pandas DF with revenue data\") -> pd.DataFrame:\n",
    "    \"\"\"Преобразование форматов данных из строк в даты и числа\"\"\"\n",
    "    df['day_lt_revenue'] = df.day_lt_revenue.astype('float')\n",
    "    df['arpc'] = df.arpc.astype('float')\n",
    "    return _fmt_date_and_set_idx(df)"
   ]
  },
  {
   "cell_type": "code",
   "execution_count": 22,
   "metadata": {},
   "outputs": [],
   "source": [
    "retention_df = retention_df_cleanup(retention_df)\n",
    "retention_pvt = retention_df['retention_rate'].unstack('lifetime')"
   ]
  },
  {
   "cell_type": "code",
   "execution_count": 23,
   "metadata": {},
   "outputs": [
    {
     "data": {
      "image/png": "[encoded data removed]",
      "text/plain": [
       "<Figure size 1440x648 with 2 Axes>"
      ]
     },
     "metadata": {},
     "output_type": "display_data"
    }
   ],
   "source": [
    "plt.figure(figsize=(20, 9))\n",
    "plt.title('Cohorts: User retention in June 2019')\n",
    "sns.heatmap(retention_pvt, annot=False, fmt='.0%', linewidths=0, cmap=sns.color_palette('GnBu', 36));\n",
    "plt.show()\n"
   ]
  },
  {
   "cell_type": "markdown",
   "metadata": {},
   "source": [
    "На мой вкус, цифры на heatmap-е только мешают восприятию, но это как кому нравится. Чтобы получить срез на определённый день, можно воспользоваться любым из датафреймов: `retention_df` или `retention_pvt`."
   ]
  },
  {
   "cell_type": "markdown",
   "metadata": {},
   "source": [
    "Как видим из диаграммы, retention rate в первые 3-4 дня во всех когортах спадает очень резко, затем спад делается более плавным. Когорты середины месяца (15-16 июня и последних двух-трёх дней держатся несколько дольше.  Заметного систематического изменения (тренда) между когортами не видно."
   ]
  },
  {
   "cell_type": "markdown",
   "metadata": {},
   "source": [
    "Из задания:\n",
    "> Что можно сказать об изменении Retention Rate на 0-й день для дневных когорт июня 2019 г.?"
   ]
  },
  {
   "cell_type": "code",
   "execution_count": 24,
   "metadata": {},
   "outputs": [
    {
     "data": {
      "text/html": [
       "<div>\n",
       "<style scoped>\n",
       "    .dataframe tbody tr th:only-of-type {\n",
       "        vertical-align: middle;\n",
       "    }\n",
       "\n",
       "    .dataframe tbody tr th {\n",
       "        vertical-align: top;\n",
       "    }\n",
       "\n",
       "    .dataframe thead th {\n",
       "        text-align: right;\n",
       "    }\n",
       "</style>\n",
       "<table border=\"1\" class=\"dataframe\">\n",
       "  <thead>\n",
       "    <tr style=\"text-align: right;\">\n",
       "      <th></th>\n",
       "      <th></th>\n",
       "      <th>registered_users_count</th>\n",
       "      <th>active_users_count</th>\n",
       "      <th>retention_rate</th>\n",
       "    </tr>\n",
       "    <tr>\n",
       "      <th>registration_date</th>\n",
       "      <th>lifetime</th>\n",
       "      <th></th>\n",
       "      <th></th>\n",
       "      <th></th>\n",
       "    </tr>\n",
       "  </thead>\n",
       "  <tbody>\n",
       "    <tr>\n",
       "      <th rowspan=\"5\" valign=\"top\">2019-06-01</th>\n",
       "      <th>0</th>\n",
       "      <td>4833</td>\n",
       "      <td>1651</td>\n",
       "      <td>0.341610</td>\n",
       "    </tr>\n",
       "    <tr>\n",
       "      <th>1</th>\n",
       "      <td>4833</td>\n",
       "      <td>1429</td>\n",
       "      <td>0.295676</td>\n",
       "    </tr>\n",
       "    <tr>\n",
       "      <th>2</th>\n",
       "      <td>4833</td>\n",
       "      <td>1021</td>\n",
       "      <td>0.211256</td>\n",
       "    </tr>\n",
       "    <tr>\n",
       "      <th>3</th>\n",
       "      <td>4833</td>\n",
       "      <td>849</td>\n",
       "      <td>0.175667</td>\n",
       "    </tr>\n",
       "    <tr>\n",
       "      <th>4</th>\n",
       "      <td>4833</td>\n",
       "      <td>694</td>\n",
       "      <td>0.143596</td>\n",
       "    </tr>\n",
       "  </tbody>\n",
       "</table>\n",
       "</div>"
      ],
      "text/plain": [
       "                            registered_users_count  active_users_count  \\\n",
       "registration_date lifetime                                               \n",
       "2019-06-01        0                           4833                1651   \n",
       "                  1                           4833                1429   \n",
       "                  2                           4833                1021   \n",
       "                  3                           4833                 849   \n",
       "                  4                           4833                 694   \n",
       "\n",
       "                            retention_rate  \n",
       "registration_date lifetime                  \n",
       "2019-06-01        0               0.341610  \n",
       "                  1               0.295676  \n",
       "                  2               0.211256  \n",
       "                  3               0.175667  \n",
       "                  4               0.143596  "
      ]
     },
     "execution_count": 24,
     "metadata": {},
     "output_type": "execute_result"
    }
   ],
   "source": [
    "retention_df.head(5)"
   ]
  },
  {
   "cell_type": "markdown",
   "metadata": {},
   "source": [
    "Наш датафрейм с двухуровневым индексом, нужный массив данных из него получается методом `.xs`:"
   ]
  },
  {
   "cell_type": "code",
   "execution_count": 25,
   "metadata": {
    "scrolled": true
   },
   "outputs": [
    {
     "data": {
      "image/png": "[encoded data removed]",
      "text/plain": [
       "<Figure size 1440x360 with 1 Axes>"
      ]
     },
     "metadata": {},
     "output_type": "display_data"
    }
   ],
   "source": [
    "day0_df = retention_df['retention_rate'].xs(0, level='lifetime')\n",
    "__ = day0_df.plot(kind='bar', figsize=(20,5))\n",
    "plt.show()"
   ]
  },
  {
   "cell_type": "markdown",
   "metadata": {},
   "source": [
    "Можно сказать, что `retention_rate` когорт на нулевой день колеблется около значения 0.35, но определённого тренда нет."
   ]
  },
  {
   "cell_type": "markdown",
   "metadata": {},
   "source": [
    "Аналогично на 7-й день:\n",
    "\n",
    "> Что можно сказать об измнении Retention Rate на 7-й день в когорте зарегистрировашихся 30 июня относительно когорты 1 июня?"
   ]
  },
  {
   "cell_type": "code",
   "execution_count": 26,
   "metadata": {},
   "outputs": [
    {
     "data": {
      "image/png": "[encoded data removed]",
      "text/plain": [
       "<Figure size 1440x360 with 1 Axes>"
      ]
     },
     "metadata": {},
     "output_type": "display_data"
    }
   ],
   "source": [
    "__ = retention_df['retention_rate'].xs(7, level='lifetime').plot(kind='bar', figsize=(20,5))\n",
    "plt.show()"
   ]
  },
  {
   "cell_type": "markdown",
   "metadata": {},
   "source": [
    "Можно сказать, что на 7-й день в когорте 30 июня retention rate увеличился по сравнению с 1 июля, хотя определённого линейного тренда в течение месяца не просматривается.  Разброс по дням также вырос."
   ]
  },
  {
   "cell_type": "markdown",
   "metadata": {},
   "source": [
    "> Рассчитайте для каждого дня lifetime усредненный Retention Rate по всем когортам июня 2019 г.\n",
    "> Постройте график изменения среднего Retention Rate в июне 2019 г. в зависимости от времени жизни пользователя.\n",
    "> Опишите, какие выводы можно сделать на основе графика изменения Retention Rate."
   ]
  },
  {
   "cell_type": "markdown",
   "metadata": {},
   "source": [
    "На мой вкус, интереснее показать не только среднее, но и разброс.  Да и среднее слишком чувствительно к выбросам.  Построю боксплоты по каждому дню лайфтайма, это даёт лучшее представление, чем просто среднее."
   ]
  },
  {
   "cell_type": "code",
   "execution_count": 27,
   "metadata": {},
   "outputs": [
    {
     "data": {
      "image/png": "[encoded data removed]",
      "text/plain": [
       "<Figure size 1440x504 with 1 Axes>"
      ]
     },
     "metadata": {},
     "output_type": "display_data"
    }
   ],
   "source": [
    "jun_ret_bp_list = [ retention_df.xs(lt, level='lifetime')['retention_rate'] for lt in range(0,31) ]\n",
    "fig = plt.figure(figsize=(20,7))\n",
    "ax = fig.add_axes((0.1, 0.1, 0.9, 0.9))\n",
    "ax.set_xlabel('Дней с момента регистрации')\n",
    "ax.set_ylabel('Retention Rate')\n",
    "fig.suptitle('Убывание retention rate в зависимости от времени жизни пользователя')\n",
    "__ = ax.boxplot(jun_ret_bp_list, notch=False, patch_artist=True)\n",
    "plt.show()"
   ]
  },
  {
   "cell_type": "markdown",
   "metadata": {},
   "source": [
    "График любопытный. Видно, что данные неплохо ложатся на линию обратной пропорциональности количеству дней с момента регистрации, и кривая вроде бы выходит на асимптоту, параллельную оси X, но только до 29-го дня.  Дальше следует резкий провал retention rate на тридцатом-тридцать первом дне."
   ]
  },
  {
   "cell_type": "markdown",
   "metadata": {},
   "source": [
    "Но просто значения — это малоинтересно, гораздо лучше смотреть динамику. Для этого нужно получить датафрейм, аналогичный данным июня 2019, только за май.  Тогда, наложив два графика, мы увидим разницу."
   ]
  },
  {
   "cell_type": "markdown",
   "metadata": {},
   "source": [
    "Получим из базы датафрейм для retention rate в мае:"
   ]
  },
  {
   "cell_type": "code",
   "execution_count": 28,
   "metadata": {},
   "outputs": [
    {
     "name": "stdout",
     "output_type": "stream",
     "text": [
      "                            registered_users_count  active_users_count  \\\n",
      "registration_date lifetime                                               \n",
      "2019-05-01        0                           6516                2590   \n",
      "                  1                           6516                2146   \n",
      "                  2                           6516                1637   \n",
      "\n",
      "                            retention_rate  \n",
      "registration_date lifetime                  \n",
      "2019-05-01        0               0.397483  \n",
      "                  1               0.329343  \n",
      "                  2               0.251228  \n"
     ]
    }
   ],
   "source": [
    "may_retention_df = pd.DataFrame(multiline_query(cursor, \n",
    "        [MAY_USERS_CTE, MAY_COHORTS_CTE, MAY_USERS_BY_REGDATE_CTE, MAY_RETENTION_CTE],\n",
    "        \"\"\"SELECT registration_date, lifetime, registered_users_count, active_users_count, retention_rate \n",
    "           FROM retention_may19 \n",
    "           ORDER BY registration_date, lifetime \n",
    "        \"\"\"))\n",
    "\n",
    "may_retention_df = retention_df_cleanup(may_retention_df)\n",
    "print(may_retention_df.head(3))"
   ]
  },
  {
   "cell_type": "markdown",
   "metadata": {},
   "source": [
    "Для дальнейших построений объединим датафреймы и посчитаем разницу между retention rate в мае и в июне. Но есть проблема: у нас `registration_date` полная, поэтому датафреймы так просто не объединить. Нужно обрезать registration_date до дня месяца.\n",
    "\n",
    "31-е число есть только в мае, поэтому в этот день июньский retention rate будет пустым. Убираю данные за 31-е мая."
   ]
  },
  {
   "cell_type": "code",
   "execution_count": 29,
   "metadata": {},
   "outputs": [
    {
     "name": "stdout",
     "output_type": "stream",
     "text": [
      "                             may_rr    jun_rr   diff_rr\n",
      "registration_day lifetime                              \n",
      "1                0         0.397483  0.341610 -0.055873\n",
      "                 1         0.329343  0.295676 -0.033668\n",
      "                 2         0.251228  0.211256 -0.039972\n",
      "                 3         0.222683  0.175667 -0.047015\n",
      "                 4         0.198895  0.143596 -0.055299\n",
      "                             may_rr    jun_rr   diff_rr\n",
      "registration_day lifetime                              \n",
      "30               26        0.053064  0.058467  0.005404\n",
      "                 27        0.051918  0.056347  0.004428\n",
      "                 28        0.053636  0.059982  0.006346\n",
      "                 29        0.041802  0.043623  0.001821\n",
      "                 30        0.026341  0.027567  0.001226\n"
     ]
    }
   ],
   "source": [
    "may_rr_pre = may_retention_df.rename(columns={'retention_rate':'may_rr'}).reset_index()\n",
    "may_rr_pre['registration_day'] = may_rr_pre.registration_date.dt.day\n",
    "may_rr_pre = may_rr_pre.drop(['registration_date', 'registered_users_count', 'active_users_count'],\n",
    "                             axis=1).take(range(0,30*31), axis=0)\n",
    "\n",
    "# просто 'retention_df' - это июньские данные\n",
    "jun_rr_pre = retention_df.rename(columns={'retention_rate':'jun_rr'}).reset_index()\n",
    "jun_rr_pre['registration_day'] = jun_rr_pre.registration_date.dt.day\n",
    "jun_rr_pre = jun_rr_pre.drop(['registration_date', 'registered_users_count', 'active_users_count'],\n",
    "                             axis=1)\n",
    "\n",
    "may_jun_retrate = may_rr_pre.merge(jun_rr_pre, on=('registration_day', 'lifetime'),how='left')\n",
    "may_jun_retrate = may_jun_retrate.set_index(['registration_day', 'lifetime'])\n",
    "may_jun_retrate['diff_rr'] = may_jun_retrate.jun_rr - may_jun_retrate.may_rr\n",
    "\n",
    "# И проверяем, что в начале и в конце данных всё нормально.\n",
    "print(may_jun_retrate.head())\n",
    "print(may_jun_retrate.tail())"
   ]
  },
  {
   "cell_type": "markdown",
   "metadata": {},
   "source": [
    " и разница пусты."
   ]
  },
  {
   "cell_type": "code",
   "execution_count": 30,
   "metadata": {},
   "outputs": [
    {
     "data": {
      "image/png": "[encoded data removed]",
      "text/plain": [
       "<Figure size 1440x648 with 2 Axes>"
      ]
     },
     "metadata": {},
     "output_type": "display_data"
    }
   ],
   "source": [
    "diff_pvt = may_jun_retrate.loc[:,'diff_rr'].unstack('lifetime')\n",
    "\n",
    "plt.figure(figsize=(20, 9))\n",
    "plt.title('Когорты: разница Retention Rate мая и июня для различных lifetime пользователя')\n",
    "sns.heatmap(diff_pvt, annot=False, fmt='.0%', linecolor='white', linewidths=.2, center=0.0, cmap=sns.color_palette(\"coolwarm\", 11));\n",
    "plt.show()"
   ]
  },
  {
   "cell_type": "markdown",
   "metadata": {},
   "source": [
    "Данные показывают, что есть некоторое снижение retention rate в в первые день-два в июньской когорте по сравнению с майской почти для всех когорт. Но это компенсируется лучшими показателями на более позних этапах жизненного цикла пользователя.  Есть уникальная когорта 30 июня, у которой retention rate заметно выше соответствующей майской когорты, есть когорты 15, 16, 29 июня, у которых RR тоже повыше майских.  В то же время существуют когорты 1, 3-4, 22, 17 июня, которые показывают худший RR по сравнению с маем."
   ]
  },
  {
   "cell_type": "markdown",
   "metadata": {},
   "source": [
    "Для того, чтобы сравнить средние по времени жизни показатели, можем вывести два графика в одних координатах.  Список `jun_ret_bp_list` у нас остался с предыдущего построения, создам новый, с майскими данными (`may_ret_bp_list`).\n"
   ]
  },
  {
   "cell_type": "code",
   "execution_count": 31,
   "metadata": {},
   "outputs": [
    {
     "data": {
      "image/png": "[encoded data removed]",
      "text/plain": [
       "<Figure size 1440x792 with 1 Axes>"
      ]
     },
     "metadata": {},
     "output_type": "display_data"
    }
   ],
   "source": [
    "jun_ret_median_list = [ retention_df.xs(lt, level='lifetime')['retention_rate'].mean() for lt in range(0,31) ]\n",
    "may_ret_median_list = [ may_retention_df.xs(lt, level='lifetime')['retention_rate'].mean() for lt in range(0,31) ]\n",
    "\n",
    "fig = plt.figure(figsize=(20,11))\n",
    "ax = fig.add_axes((0.1, 0.1, 0.9, 0.9))\n",
    "ax.set_xlabel('Дней с момента регистрации')\n",
    "ax.set_ylabel('Retention Rate')\n",
    "fig.suptitle('Убывание retention rate в зависимости от времени жизни пользователя')\n",
    "__ = ax.plot(jun_ret_median_list, color='orange')\n",
    "__ = ax.plot(may_ret_median_list, color='blue')\n",
    "# XXX Но я хочу боксплоты, а не только медианы!\n",
    "plt.show()"
   ]
  },
  {
   "cell_type": "markdown",
   "metadata": {},
   "source": [
    "Медианы ведут себя аналогично. До десятого дня июньские показатели чуть хуже майских, после десятого чуть лучше."
   ]
  },
  {
   "cell_type": "markdown",
   "metadata": {},
   "source": [
    "links:\n",
    "https://matplotlib.org/devel/MEP/MEP28.html?highlight=multiple%20boxplots\n",
    "https://matplotlib.org/devel/MEP/MEP28.html?highlight=multiple%20boxplots#mep28-remove-complexity-from-axes-boxplot\n",
    "https://matplotlib.org/tutorials/introductory/customizing.html\n"
   ]
  },
  {
   "cell_type": "markdown",
   "metadata": {},
   "source": [
    "## Самостоятельная работа"
   ]
  },
  {
   "cell_type": "markdown",
   "metadata": {},
   "source": [
    "### Расчёт ARPU"
   ]
  },
  {
   "cell_type": "markdown",
   "metadata": {},
   "source": [
    "Данные о доходах хранятся в таблице `case9.user_revenue` и имеют такую структуру:\n",
    "```\n",
    "dgolub=> \\d case9.user_revenue\n",
    "             Table \"case9.user_revenue\"\n",
    " Column  |  Type   | Collation | Nullable | Default \n",
    "---------+---------+-----------+----------+---------\n",
    " id      | integer |           | not null | \n",
    " user_id | uuid    |           |          | \n",
    " date    | date    |           |          | \n",
    " revenue | real    |           |          | \n",
    "Indexes:\n",
    "    \"user_revenue_pkey\" PRIMARY KEY, btree (id)\n",
    "Foreign-key constraints:\n",
    "    \"user_id_ur_fk\" FOREIGN KEY (user_id) REFERENCES case9.registration(user_id)\n",
    "```"
   ]
  },
  {
   "cell_type": "markdown",
   "metadata": {},
   "source": [
    "Начальные строки таблицы:"
   ]
  },
  {
   "cell_type": "markdown",
   "metadata": {},
   "source": [
    "```\n",
    "dgolub=> select * from case9.user_revenue limit 3;\n",
    "   id   |               user_id                |    date    |  revenue  \n",
    "--------+--------------------------------------+------------+-----------\n",
    " 489601 | 85d1dec6-dc6e-4d06-993e-cb795fec9471 | 2019-06-03 |  0.530505\n",
    " 489602 | 5ca30bf9-192b-4c87-9832-59ae717e8d6a | 2019-06-21 |  0.946369\n",
    " 489603 | 090d5e7b-6d82-48b0-8201-831d4b05b520 | 2019-06-26 | 0.0231618\n",
    "(3 rows)\n",
    "```"
   ]
  },
  {
   "cell_type": "markdown",
   "metadata": {},
   "source": [
    "Для того, чтобы получить доходы от пользователей, зарегистрированных в каком-либо месяце, нужно объединить эту таблицу с вырезкой для этого месяца из таблицы зарегистрированных пользователей.  Примерно так:\n",
    "```\n",
    "dgolub=> select * from case9.user_revenue join case9.registration using (user_id) limit 3;\n",
    "               user_id                |   id   |    date    |  revenue  | registration_date \n",
    "--------------------------------------+--------+------------+-----------+-------------------\n",
    " 85d1dec6-dc6e-4d06-993e-cb795fec9471 | 489601 | 2019-06-03 |  0.530505 | 2019-06-02\n",
    " 5ca30bf9-192b-4c87-9832-59ae717e8d6a | 489602 | 2019-06-21 |  0.946369 | 2019-06-21\n",
    " 090d5e7b-6d82-48b0-8201-831d4b05b520 | 489603 | 2019-06-26 | 0.0231618 | 2019-06-09\n",
    "```"
   ]
  },
  {
   "cell_type": "markdown",
   "metadata": {},
   "source": [
    "Надо заметить, что на пользователя приходится заметно больше одной покупки:\n",
    "``` \n",
    "dgolub=> select \n",
    "    count(user_id)*1.0/count(distinct user_id) as apc \n",
    "    from \n",
    "        case9.user_revenue \n",
    "        join case9.registration \n",
    "        using (user_id) \n",
    "    where registration_date between '2019-06-01' and '2019-06-30';\n",
    "    \n",
    "        apc         \n",
    "--------------------\n",
    " 2.2946964378722344\n",
    "```"
   ]
  },
  {
   "cell_type": "markdown",
   "metadata": {},
   "source": [
    "Для исследования доходов нужно получить данные в формате: дата регистрации - время жизни - доход. Можно добавить и дополнительные колонки, например, ARPU (поделив доход на количество пользователей)."
   ]
  },
  {
   "cell_type": "code",
   "execution_count": 32,
   "metadata": {},
   "outputs": [
    {
     "name": "stdout",
     "output_type": "stream",
     "text": [
      "Общий грязный доход с июньских пользователей: 79685.88\n"
     ]
    }
   ],
   "source": [
    "MONTH_REVENUE_TMPL = \"\"\"{0} as (SELECT \n",
    "    ur.registration_date, \n",
    "    re.date - ur.registration_date as lifetime, \n",
    "    count(distinct(re.user_id)) as users_count_with_revenue, \n",
    "    sum(re.revenue) as revenue \n",
    "FROM \n",
    "    case9.user_revenue re\n",
    "    INNER JOIN \n",
    "    {1} as ur \n",
    "    USING (user_id)\n",
    "GROUP BY ur.registration_date, lifetime\n",
    ")\"\"\"\n",
    "\n",
    "JUN_RVN_CTE = MONTH_REVENUE_TMPL.format('jun_users_revenue', 'users_jun19')\n",
    "\n",
    "jun_users_revenue = simple_query(cursor, [JUN_USERS_CTE, JUN_RVN_CTE], \n",
    "                                    'select sum(revenue) from jun_users_revenue;'\n",
    "                                   )[0]\n",
    "print(\"Общий грязный доход с июньских пользователей:\", jun_users_revenue)"
   ]
  },
  {
   "cell_type": "code",
   "execution_count": 33,
   "metadata": {},
   "outputs": [
    {
     "name": "stdout",
     "output_type": "stream",
     "text": [
      "Количество зарегистрированных в июне пользователей: 100423\n",
      "АRPU в июне: 0.7935022853330412\n"
     ]
    }
   ],
   "source": [
    "jun_users_count = simple_query(cursor, [JUN_USERS_CTE], 'select count(distinct user_id) from users_jun19;')[0]\n",
    "print(\"Количество зарегистрированных в июне пользователей:\", jun_users_count)\n",
    "print(\"АRPU в июне:\", jun_users_revenue/jun_users_count)"
   ]
  },
  {
   "cell_type": "markdown",
   "metadata": {},
   "source": [
    "Из учебника ARPU в мае около 0.65, что даёт нам неплохой прирост июньского ARPU по отношению к майскому, около 23%."
   ]
  },
  {
   "cell_type": "markdown",
   "metadata": {},
   "source": [
    "### Распределение ARPU по дням: когорты и lifetime"
   ]
  },
  {
   "cell_type": "markdown",
   "metadata": {},
   "source": [
    "Строить нужную выдачу из базы будем поэтапно.  Сначала получим revenue по пользователям (не только по покупателям)."
   ]
  },
  {
   "cell_type": "code",
   "execution_count": 34,
   "metadata": {},
   "outputs": [],
   "source": [
    "USERS_REVENUE_TMPL = \"\"\"{0} as (SELECT \n",
    "    id, \n",
    "    user_id, \n",
    "    registration_date, \n",
    "    date as trans_date,\n",
    "    (date - registration_date) as lifetime, \n",
    "    revenue\n",
    "FROM\n",
    "    {1}\n",
    "    INNER JOIN\n",
    "    case9.user_revenue USING (user_id)\n",
    "ORDER BY registration_date, lifetime\n",
    ")\"\"\"\n",
    "\n",
    "MAY_USERS_REVENUE_CTE = USERS_REVENUE_TMPL.format('may_revenue_by_user', 'users_may19')\n",
    "JUN_USERS_REVENUE_CTE = USERS_REVENUE_TMPL.format('jun_revenue_by_user', 'users_jun19')"
   ]
  },
  {
   "cell_type": "markdown",
   "metadata": {},
   "source": [
    "Используется `INNER JOIN`, потому что пользователей будем считать другим способом, из этих таблиц неудобно (лучше из `user_activity`). Пока что получим ARPC, а не ARPU.\n",
    "\n",
    "Проверяем, что выдаётся осмысленный результат:"
   ]
  },
  {
   "cell_type": "code",
   "execution_count": 35,
   "metadata": {},
   "outputs": [
    {
     "name": "stdout",
     "output_type": "stream",
     "text": [
      "Валовой доход в мае 122007.81 и в июне 79685.89\n"
     ]
    }
   ],
   "source": [
    "print(\"Валовой доход в мае {0} и в июне {1}\".format(\n",
    "      (simple_query(cursor, [MAY_USERS_CTE, MAY_USERS_REVENUE_CTE],\"\"\"\n",
    "            SELECT count(distinct user_id), sum(revenue) from may_revenue_by_user;\"\"\")[1]),\n",
    "      (simple_query(cursor, [JUN_USERS_CTE, JUN_USERS_REVENUE_CTE],\"\"\"\n",
    "            SELECT count(distinct user_id), sum(revenue) from jun_revenue_by_user;\"\"\")[1])))"
   ]
  },
  {
   "cell_type": "raw",
   "metadata": {},
   "source": [
    "Комментарий.\n",
    "А вот тут странно. Майский доход выдаётся завышенным, хотя июньский вроде бы нормальный (тоже завышен примерно на 0.5). Откуда бы?"
   ]
  },
  {
   "cell_type": "code",
   "execution_count": 40,
   "metadata": {},
   "outputs": [],
   "source": [
    "REVENUE_DF_REQ_TMPL = \"\"\"\n",
    "    SELECT registration_date,\n",
    "        lifetime,\n",
    "        count(distinct user_id) as buyers,\n",
    "        sum(revenue) as day_lt_revenue,\n",
    "        sum(revenue) * 1.0 / count(distinct user_id) as arpc\n",
    "    FROM\n",
    "        {0}\n",
    "    GROUP BY registration_date, lifetime\n",
    "    ORDER BY registration_date, lifetime\n",
    "\"\"\"\n",
    "\n",
    "may_revenue_df = revenue_df_cleanup(\n",
    "    pd.DataFrame(multiline_query(cursor, [MAY_USERS_CTE, MAY_USERS_REVENUE_CTE],\n",
    "                REVENUE_DF_REQ_TMPL.format('may_revenue_by_user'))))\n",
    "\n",
    "jun_revenue_df = revenue_df_cleanup(\n",
    "    pd.DataFrame(multiline_query(cursor, [JUN_USERS_CTE, JUN_USERS_REVENUE_CTE],\n",
    "                REVENUE_DF_REQ_TMPL.format('jun_revenue_by_user'))))"
   ]
  },
  {
   "cell_type": "code",
   "execution_count": 41,
   "metadata": {},
   "outputs": [
    {
     "name": "stdout",
     "output_type": "stream",
     "text": [
      "<class 'pandas.core.frame.DataFrame'>\n",
      "MultiIndex: 833 entries, (2019-06-01 00:00:00, 0) to (2019-06-30 00:00:00, 30)\n",
      "Data columns (total 3 columns):\n",
      "buyers            833 non-null int64\n",
      "day_lt_revenue    833 non-null float64\n",
      "arpc              833 non-null float64\n",
      "dtypes: float64(2), int64(1)\n",
      "memory usage: 21.9 KB\n"
     ]
    }
   ],
   "source": [
    "jun_revenue_df.info()"
   ]
  },
  {
   "cell_type": "markdown",
   "metadata": {},
   "source": [
    "Из полученных датафреймов можно получить сводные таблицы по нужным колонкам. Revenue убыывает очень быстро, причём механизмов убывания видно два: сокращение количества покупателей и снижение дохода на покупателя (ARPC). Интереснее вывести ARPC:\n"
   ]
  },
  {
   "cell_type": "code",
   "execution_count": 83,
   "metadata": {},
   "outputs": [],
   "source": [
    "may_arpc_pvt = may_revenue_df['arpc'].unstack('lifetime')\n",
    "jun_arpc_pvt = jun_revenue_df['arpc'].unstack('lifetime')"
   ]
  },
  {
   "cell_type": "markdown",
   "metadata": {},
   "source": [
    "Два следующих блока кода закомментированы (обозначены как raw block), при желании их можно пометить как\n",
    "код и выполнить.  Картинки не очень интересные: из-за разницы масштабов тяжело сделать выводы. Ниже выведу разницу, она более показательна."
   ]
  },
  {
   "cell_type": "raw",
   "metadata": {},
   "source": [
    "plt.figure(figsize=(20, 9))\n",
    "plt.title('Cohorts: ARPC in May 2019')\n",
    "sns.heatmap(may_arpc_pvt, annot=False, fmt='.0%', linewidths=0, cmap=sns.color_palette('GnBu', 36));\n",
    "plt.show()"
   ]
  },
  {
   "cell_type": "raw",
   "metadata": {},
   "source": [
    "plt.figure(figsize=(20, 9))\n",
    "plt.title('Cohorts: ARPC in June 2019')\n",
    "sns.heatmap(jun_arpc_pvt, annot=False, fmt='.0%', linewidths=0, cmap=sns.color_palette('GnBu', 36));\n",
    "plt.show()"
   ]
  },
  {
   "cell_type": "markdown",
   "metadata": {},
   "source": [
    "Для получения разницы между датафреймами нужно поправить индексы: сейчас они представляют собой даты, а нам нужны только номера дней в месяце. Можно выделить день из даты, а можно просто пронумеровать колонки, потому что они последовательны с первого до последнего дня месяца."
   ]
  },
  {
   "cell_type": "code",
   "execution_count": 84,
   "metadata": {},
   "outputs": [
    {
     "data": {
      "text/html": [
       "<div>\n",
       "<style scoped>\n",
       "    .dataframe tbody tr th:only-of-type {\n",
       "        vertical-align: middle;\n",
       "    }\n",
       "\n",
       "    .dataframe tbody tr th {\n",
       "        vertical-align: top;\n",
       "    }\n",
       "\n",
       "    .dataframe thead th {\n",
       "        text-align: right;\n",
       "    }\n",
       "</style>\n",
       "<table border=\"1\" class=\"dataframe\">\n",
       "  <thead>\n",
       "    <tr style=\"text-align: right;\">\n",
       "      <th>lifetime</th>\n",
       "      <th>0</th>\n",
       "      <th>1</th>\n",
       "      <th>2</th>\n",
       "      <th>3</th>\n",
       "      <th>4</th>\n",
       "      <th>5</th>\n",
       "      <th>6</th>\n",
       "      <th>7</th>\n",
       "      <th>8</th>\n",
       "      <th>9</th>\n",
       "      <th>...</th>\n",
       "      <th>21</th>\n",
       "      <th>22</th>\n",
       "      <th>23</th>\n",
       "      <th>24</th>\n",
       "      <th>25</th>\n",
       "      <th>26</th>\n",
       "      <th>27</th>\n",
       "      <th>28</th>\n",
       "      <th>29</th>\n",
       "      <th>30</th>\n",
       "    </tr>\n",
       "    <tr>\n",
       "      <th>registration_day</th>\n",
       "      <th></th>\n",
       "      <th></th>\n",
       "      <th></th>\n",
       "      <th></th>\n",
       "      <th></th>\n",
       "      <th></th>\n",
       "      <th></th>\n",
       "      <th></th>\n",
       "      <th></th>\n",
       "      <th></th>\n",
       "      <th></th>\n",
       "      <th></th>\n",
       "      <th></th>\n",
       "      <th></th>\n",
       "      <th></th>\n",
       "      <th></th>\n",
       "      <th></th>\n",
       "      <th></th>\n",
       "      <th></th>\n",
       "      <th></th>\n",
       "      <th></th>\n",
       "    </tr>\n",
       "  </thead>\n",
       "  <tbody>\n",
       "    <tr>\n",
       "      <th>1</th>\n",
       "      <td>0.079667</td>\n",
       "      <td>-0.020060</td>\n",
       "      <td>-0.064422</td>\n",
       "      <td>-0.148113</td>\n",
       "      <td>-0.192650</td>\n",
       "      <td>0.248676</td>\n",
       "      <td>0.921490</td>\n",
       "      <td>0.379312</td>\n",
       "      <td>-0.184826</td>\n",
       "      <td>-0.089229</td>\n",
       "      <td>...</td>\n",
       "      <td>0.044067</td>\n",
       "      <td>0.551653</td>\n",
       "      <td>0.103482</td>\n",
       "      <td>-0.417546</td>\n",
       "      <td>0.054582</td>\n",
       "      <td>0.191723</td>\n",
       "      <td>1.046293</td>\n",
       "      <td>0.130606</td>\n",
       "      <td>-0.062351</td>\n",
       "      <td>-0.254574</td>\n",
       "    </tr>\n",
       "    <tr>\n",
       "      <th>2</th>\n",
       "      <td>-0.153404</td>\n",
       "      <td>0.092029</td>\n",
       "      <td>-0.176951</td>\n",
       "      <td>-0.142817</td>\n",
       "      <td>-0.228464</td>\n",
       "      <td>-0.014382</td>\n",
       "      <td>-0.062789</td>\n",
       "      <td>-0.219775</td>\n",
       "      <td>0.047512</td>\n",
       "      <td>0.184180</td>\n",
       "      <td>...</td>\n",
       "      <td>-0.804292</td>\n",
       "      <td>-0.017134</td>\n",
       "      <td>0.097562</td>\n",
       "      <td>-0.088593</td>\n",
       "      <td>1.178490</td>\n",
       "      <td>0.078065</td>\n",
       "      <td>-0.027403</td>\n",
       "      <td>0.067689</td>\n",
       "      <td>-0.215194</td>\n",
       "      <td>0.621719</td>\n",
       "    </tr>\n",
       "    <tr>\n",
       "      <th>3</th>\n",
       "      <td>0.206224</td>\n",
       "      <td>-0.027257</td>\n",
       "      <td>-0.081473</td>\n",
       "      <td>-0.252215</td>\n",
       "      <td>-0.000259</td>\n",
       "      <td>0.375573</td>\n",
       "      <td>-0.367441</td>\n",
       "      <td>-0.107182</td>\n",
       "      <td>-0.125108</td>\n",
       "      <td>-0.123886</td>\n",
       "      <td>...</td>\n",
       "      <td>0.174448</td>\n",
       "      <td>-0.423997</td>\n",
       "      <td>0.437409</td>\n",
       "      <td>-0.160023</td>\n",
       "      <td>0.049826</td>\n",
       "      <td>0.076388</td>\n",
       "      <td>-0.253008</td>\n",
       "      <td>-0.095343</td>\n",
       "      <td>0.052796</td>\n",
       "      <td>-0.316597</td>\n",
       "    </tr>\n",
       "    <tr>\n",
       "      <th>4</th>\n",
       "      <td>0.054829</td>\n",
       "      <td>0.270894</td>\n",
       "      <td>-0.134152</td>\n",
       "      <td>0.163905</td>\n",
       "      <td>0.147368</td>\n",
       "      <td>0.170959</td>\n",
       "      <td>-0.109980</td>\n",
       "      <td>0.005274</td>\n",
       "      <td>0.193601</td>\n",
       "      <td>0.647350</td>\n",
       "      <td>...</td>\n",
       "      <td>-0.152057</td>\n",
       "      <td>0.231390</td>\n",
       "      <td>-0.274467</td>\n",
       "      <td>0.013603</td>\n",
       "      <td>0.017525</td>\n",
       "      <td>-0.019829</td>\n",
       "      <td>-0.118986</td>\n",
       "      <td>0.340497</td>\n",
       "      <td>-0.331050</td>\n",
       "      <td>-0.146816</td>\n",
       "    </tr>\n",
       "    <tr>\n",
       "      <th>5</th>\n",
       "      <td>0.067675</td>\n",
       "      <td>-0.244261</td>\n",
       "      <td>0.500977</td>\n",
       "      <td>-0.008487</td>\n",
       "      <td>0.266062</td>\n",
       "      <td>-0.189722</td>\n",
       "      <td>-0.056386</td>\n",
       "      <td>0.012165</td>\n",
       "      <td>0.069210</td>\n",
       "      <td>0.625168</td>\n",
       "      <td>...</td>\n",
       "      <td>0.028473</td>\n",
       "      <td>-0.054721</td>\n",
       "      <td>0.100363</td>\n",
       "      <td>0.384873</td>\n",
       "      <td>0.057946</td>\n",
       "      <td>0.481470</td>\n",
       "      <td>0.167695</td>\n",
       "      <td>0.493598</td>\n",
       "      <td>0.037205</td>\n",
       "      <td>0.411542</td>\n",
       "    </tr>\n",
       "    <tr>\n",
       "      <th>6</th>\n",
       "      <td>0.468188</td>\n",
       "      <td>-0.087301</td>\n",
       "      <td>0.091904</td>\n",
       "      <td>0.226552</td>\n",
       "      <td>-0.200056</td>\n",
       "      <td>-0.064755</td>\n",
       "      <td>0.327265</td>\n",
       "      <td>-0.199217</td>\n",
       "      <td>-0.120199</td>\n",
       "      <td>0.110646</td>\n",
       "      <td>...</td>\n",
       "      <td>0.310270</td>\n",
       "      <td>-0.041371</td>\n",
       "      <td>0.001222</td>\n",
       "      <td>-0.120040</td>\n",
       "      <td>-0.247982</td>\n",
       "      <td>0.387222</td>\n",
       "      <td>0.866434</td>\n",
       "      <td>-0.040443</td>\n",
       "      <td>-0.159818</td>\n",
       "      <td>0.000000</td>\n",
       "    </tr>\n",
       "    <tr>\n",
       "      <th>7</th>\n",
       "      <td>0.216798</td>\n",
       "      <td>0.169715</td>\n",
       "      <td>0.021174</td>\n",
       "      <td>-0.051078</td>\n",
       "      <td>0.112767</td>\n",
       "      <td>0.714172</td>\n",
       "      <td>0.125697</td>\n",
       "      <td>0.032160</td>\n",
       "      <td>-0.174834</td>\n",
       "      <td>0.131531</td>\n",
       "      <td>...</td>\n",
       "      <td>0.183511</td>\n",
       "      <td>0.023149</td>\n",
       "      <td>-0.164744</td>\n",
       "      <td>0.163706</td>\n",
       "      <td>0.176376</td>\n",
       "      <td>0.053796</td>\n",
       "      <td>0.208686</td>\n",
       "      <td>1.758215</td>\n",
       "      <td>0.090593</td>\n",
       "      <td>-0.285376</td>\n",
       "    </tr>\n",
       "    <tr>\n",
       "      <th>8</th>\n",
       "      <td>0.267786</td>\n",
       "      <td>0.292540</td>\n",
       "      <td>0.047742</td>\n",
       "      <td>-0.066764</td>\n",
       "      <td>0.012425</td>\n",
       "      <td>0.321930</td>\n",
       "      <td>0.204125</td>\n",
       "      <td>-0.301044</td>\n",
       "      <td>-0.093292</td>\n",
       "      <td>0.208893</td>\n",
       "      <td>...</td>\n",
       "      <td>-0.138336</td>\n",
       "      <td>-0.047931</td>\n",
       "      <td>0.180390</td>\n",
       "      <td>-0.503043</td>\n",
       "      <td>0.132776</td>\n",
       "      <td>0.163646</td>\n",
       "      <td>-0.162046</td>\n",
       "      <td>0.000000</td>\n",
       "      <td>1.153295</td>\n",
       "      <td>-0.341546</td>\n",
       "    </tr>\n",
       "    <tr>\n",
       "      <th>9</th>\n",
       "      <td>0.440379</td>\n",
       "      <td>0.003060</td>\n",
       "      <td>0.116754</td>\n",
       "      <td>-0.307495</td>\n",
       "      <td>0.423456</td>\n",
       "      <td>0.014860</td>\n",
       "      <td>0.340270</td>\n",
       "      <td>0.493896</td>\n",
       "      <td>-0.059145</td>\n",
       "      <td>-0.472709</td>\n",
       "      <td>...</td>\n",
       "      <td>-0.074059</td>\n",
       "      <td>-0.022782</td>\n",
       "      <td>-0.172682</td>\n",
       "      <td>-0.070342</td>\n",
       "      <td>0.026873</td>\n",
       "      <td>0.063255</td>\n",
       "      <td>0.265332</td>\n",
       "      <td>-0.370232</td>\n",
       "      <td>0.026622</td>\n",
       "      <td>0.000000</td>\n",
       "    </tr>\n",
       "    <tr>\n",
       "      <th>10</th>\n",
       "      <td>0.330929</td>\n",
       "      <td>0.089799</td>\n",
       "      <td>-0.005516</td>\n",
       "      <td>0.001293</td>\n",
       "      <td>-0.291836</td>\n",
       "      <td>0.047360</td>\n",
       "      <td>-0.096660</td>\n",
       "      <td>0.201210</td>\n",
       "      <td>-0.216260</td>\n",
       "      <td>0.065438</td>\n",
       "      <td>...</td>\n",
       "      <td>0.004720</td>\n",
       "      <td>-0.036688</td>\n",
       "      <td>-0.016602</td>\n",
       "      <td>0.000000</td>\n",
       "      <td>0.144084</td>\n",
       "      <td>-0.062227</td>\n",
       "      <td>0.034384</td>\n",
       "      <td>-0.578165</td>\n",
       "      <td>-0.412736</td>\n",
       "      <td>0.083390</td>\n",
       "    </tr>\n",
       "    <tr>\n",
       "      <th>11</th>\n",
       "      <td>-0.400440</td>\n",
       "      <td>0.415525</td>\n",
       "      <td>0.750468</td>\n",
       "      <td>0.284746</td>\n",
       "      <td>-0.314373</td>\n",
       "      <td>-0.108943</td>\n",
       "      <td>0.412008</td>\n",
       "      <td>-0.248662</td>\n",
       "      <td>0.313076</td>\n",
       "      <td>0.177945</td>\n",
       "      <td>...</td>\n",
       "      <td>-0.145373</td>\n",
       "      <td>-0.110743</td>\n",
       "      <td>0.103958</td>\n",
       "      <td>-0.001999</td>\n",
       "      <td>0.113900</td>\n",
       "      <td>-0.007861</td>\n",
       "      <td>0.013734</td>\n",
       "      <td>0.021055</td>\n",
       "      <td>-0.006511</td>\n",
       "      <td>-0.114240</td>\n",
       "    </tr>\n",
       "    <tr>\n",
       "      <th>12</th>\n",
       "      <td>0.397678</td>\n",
       "      <td>-0.430120</td>\n",
       "      <td>0.491145</td>\n",
       "      <td>0.167458</td>\n",
       "      <td>-0.130081</td>\n",
       "      <td>0.649322</td>\n",
       "      <td>0.380442</td>\n",
       "      <td>-0.128111</td>\n",
       "      <td>-0.103453</td>\n",
       "      <td>0.130379</td>\n",
       "      <td>...</td>\n",
       "      <td>0.348638</td>\n",
       "      <td>-0.524208</td>\n",
       "      <td>-0.030173</td>\n",
       "      <td>-0.288505</td>\n",
       "      <td>0.054143</td>\n",
       "      <td>-0.006113</td>\n",
       "      <td>-0.033773</td>\n",
       "      <td>-0.102972</td>\n",
       "      <td>0.602613</td>\n",
       "      <td>0.309615</td>\n",
       "    </tr>\n",
       "    <tr>\n",
       "      <th>13</th>\n",
       "      <td>0.202438</td>\n",
       "      <td>-0.095780</td>\n",
       "      <td>-0.291391</td>\n",
       "      <td>0.659126</td>\n",
       "      <td>-0.061572</td>\n",
       "      <td>-0.093673</td>\n",
       "      <td>0.180481</td>\n",
       "      <td>0.347241</td>\n",
       "      <td>0.008126</td>\n",
       "      <td>0.270283</td>\n",
       "      <td>...</td>\n",
       "      <td>-0.203276</td>\n",
       "      <td>-0.024066</td>\n",
       "      <td>-0.380219</td>\n",
       "      <td>0.064314</td>\n",
       "      <td>-0.304464</td>\n",
       "      <td>0.086805</td>\n",
       "      <td>-0.099238</td>\n",
       "      <td>0.302826</td>\n",
       "      <td>0.331450</td>\n",
       "      <td>0.236962</td>\n",
       "    </tr>\n",
       "    <tr>\n",
       "      <th>14</th>\n",
       "      <td>0.573432</td>\n",
       "      <td>0.107180</td>\n",
       "      <td>0.055776</td>\n",
       "      <td>-0.147553</td>\n",
       "      <td>0.396004</td>\n",
       "      <td>0.788583</td>\n",
       "      <td>-0.513923</td>\n",
       "      <td>0.049477</td>\n",
       "      <td>0.056902</td>\n",
       "      <td>-0.040874</td>\n",
       "      <td>...</td>\n",
       "      <td>-0.674000</td>\n",
       "      <td>-0.180506</td>\n",
       "      <td>0.340548</td>\n",
       "      <td>-0.244173</td>\n",
       "      <td>0.715211</td>\n",
       "      <td>-0.081610</td>\n",
       "      <td>-0.357918</td>\n",
       "      <td>-0.098964</td>\n",
       "      <td>0.059539</td>\n",
       "      <td>0.558937</td>\n",
       "    </tr>\n",
       "    <tr>\n",
       "      <th>15</th>\n",
       "      <td>0.503011</td>\n",
       "      <td>0.094911</td>\n",
       "      <td>0.012860</td>\n",
       "      <td>0.367910</td>\n",
       "      <td>-0.219154</td>\n",
       "      <td>0.848858</td>\n",
       "      <td>-0.211239</td>\n",
       "      <td>-0.179851</td>\n",
       "      <td>-0.121389</td>\n",
       "      <td>-0.082977</td>\n",
       "      <td>...</td>\n",
       "      <td>0.358145</td>\n",
       "      <td>-0.093830</td>\n",
       "      <td>-0.188492</td>\n",
       "      <td>-0.277959</td>\n",
       "      <td>0.120831</td>\n",
       "      <td>-0.140408</td>\n",
       "      <td>-0.342876</td>\n",
       "      <td>0.000000</td>\n",
       "      <td>0.038244</td>\n",
       "      <td>0.072437</td>\n",
       "    </tr>\n",
       "    <tr>\n",
       "      <th>16</th>\n",
       "      <td>0.656493</td>\n",
       "      <td>0.269838</td>\n",
       "      <td>-0.091691</td>\n",
       "      <td>-0.293219</td>\n",
       "      <td>-0.085142</td>\n",
       "      <td>-0.142839</td>\n",
       "      <td>0.047310</td>\n",
       "      <td>-0.060401</td>\n",
       "      <td>-0.551809</td>\n",
       "      <td>-0.383233</td>\n",
       "      <td>...</td>\n",
       "      <td>-0.083547</td>\n",
       "      <td>-0.128315</td>\n",
       "      <td>-0.339257</td>\n",
       "      <td>0.060394</td>\n",
       "      <td>0.294236</td>\n",
       "      <td>-0.026102</td>\n",
       "      <td>0.081390</td>\n",
       "      <td>0.003712</td>\n",
       "      <td>0.000000</td>\n",
       "      <td>-0.038351</td>\n",
       "    </tr>\n",
       "    <tr>\n",
       "      <th>17</th>\n",
       "      <td>0.791726</td>\n",
       "      <td>0.625194</td>\n",
       "      <td>0.033198</td>\n",
       "      <td>0.876590</td>\n",
       "      <td>0.336441</td>\n",
       "      <td>0.432299</td>\n",
       "      <td>-0.129808</td>\n",
       "      <td>1.014617</td>\n",
       "      <td>0.065393</td>\n",
       "      <td>-0.084079</td>\n",
       "      <td>...</td>\n",
       "      <td>-0.081550</td>\n",
       "      <td>-0.004412</td>\n",
       "      <td>0.692762</td>\n",
       "      <td>-0.422574</td>\n",
       "      <td>0.000000</td>\n",
       "      <td>-0.064447</td>\n",
       "      <td>0.195481</td>\n",
       "      <td>-0.017452</td>\n",
       "      <td>-0.237249</td>\n",
       "      <td>-0.159853</td>\n",
       "    </tr>\n",
       "    <tr>\n",
       "      <th>18</th>\n",
       "      <td>0.260333</td>\n",
       "      <td>0.233197</td>\n",
       "      <td>0.302039</td>\n",
       "      <td>0.337245</td>\n",
       "      <td>0.071141</td>\n",
       "      <td>1.140948</td>\n",
       "      <td>-0.131862</td>\n",
       "      <td>0.039059</td>\n",
       "      <td>0.087860</td>\n",
       "      <td>0.715206</td>\n",
       "      <td>...</td>\n",
       "      <td>-0.131251</td>\n",
       "      <td>0.148941</td>\n",
       "      <td>-0.249091</td>\n",
       "      <td>0.118715</td>\n",
       "      <td>-0.059922</td>\n",
       "      <td>-0.469482</td>\n",
       "      <td>-0.306937</td>\n",
       "      <td>-0.092520</td>\n",
       "      <td>-0.812780</td>\n",
       "      <td>-0.389807</td>\n",
       "    </tr>\n",
       "    <tr>\n",
       "      <th>19</th>\n",
       "      <td>0.166728</td>\n",
       "      <td>0.356713</td>\n",
       "      <td>-0.094738</td>\n",
       "      <td>0.582861</td>\n",
       "      <td>0.115117</td>\n",
       "      <td>-0.078201</td>\n",
       "      <td>0.231934</td>\n",
       "      <td>-0.021866</td>\n",
       "      <td>-0.104537</td>\n",
       "      <td>1.797708</td>\n",
       "      <td>...</td>\n",
       "      <td>-0.067459</td>\n",
       "      <td>-0.280817</td>\n",
       "      <td>0.347355</td>\n",
       "      <td>-0.049842</td>\n",
       "      <td>0.092088</td>\n",
       "      <td>0.076351</td>\n",
       "      <td>0.049211</td>\n",
       "      <td>0.353810</td>\n",
       "      <td>-0.251518</td>\n",
       "      <td>0.044340</td>\n",
       "    </tr>\n",
       "    <tr>\n",
       "      <th>20</th>\n",
       "      <td>0.281697</td>\n",
       "      <td>-0.099977</td>\n",
       "      <td>-0.235664</td>\n",
       "      <td>0.268072</td>\n",
       "      <td>-0.176953</td>\n",
       "      <td>0.800842</td>\n",
       "      <td>0.855798</td>\n",
       "      <td>-0.248617</td>\n",
       "      <td>0.439850</td>\n",
       "      <td>-0.136404</td>\n",
       "      <td>...</td>\n",
       "      <td>-0.241280</td>\n",
       "      <td>0.109364</td>\n",
       "      <td>-0.545620</td>\n",
       "      <td>0.352540</td>\n",
       "      <td>0.000000</td>\n",
       "      <td>-0.008997</td>\n",
       "      <td>-0.015093</td>\n",
       "      <td>0.109000</td>\n",
       "      <td>0.293200</td>\n",
       "      <td>0.335435</td>\n",
       "    </tr>\n",
       "    <tr>\n",
       "      <th>21</th>\n",
       "      <td>0.338486</td>\n",
       "      <td>0.000172</td>\n",
       "      <td>0.021832</td>\n",
       "      <td>0.169844</td>\n",
       "      <td>-0.215870</td>\n",
       "      <td>0.395747</td>\n",
       "      <td>-0.063478</td>\n",
       "      <td>-0.176411</td>\n",
       "      <td>-0.341318</td>\n",
       "      <td>1.308816</td>\n",
       "      <td>...</td>\n",
       "      <td>-0.129032</td>\n",
       "      <td>1.085726</td>\n",
       "      <td>0.009309</td>\n",
       "      <td>0.093570</td>\n",
       "      <td>0.146305</td>\n",
       "      <td>0.000000</td>\n",
       "      <td>0.390956</td>\n",
       "      <td>0.122957</td>\n",
       "      <td>0.080976</td>\n",
       "      <td>0.099744</td>\n",
       "    </tr>\n",
       "    <tr>\n",
       "      <th>22</th>\n",
       "      <td>0.035220</td>\n",
       "      <td>0.066248</td>\n",
       "      <td>-0.257135</td>\n",
       "      <td>-0.446823</td>\n",
       "      <td>0.259069</td>\n",
       "      <td>0.366519</td>\n",
       "      <td>-0.022063</td>\n",
       "      <td>0.437717</td>\n",
       "      <td>0.159298</td>\n",
       "      <td>0.423765</td>\n",
       "      <td>...</td>\n",
       "      <td>0.039417</td>\n",
       "      <td>0.077485</td>\n",
       "      <td>-0.550365</td>\n",
       "      <td>0.214298</td>\n",
       "      <td>0.000000</td>\n",
       "      <td>-0.219075</td>\n",
       "      <td>-0.596180</td>\n",
       "      <td>0.264678</td>\n",
       "      <td>0.250274</td>\n",
       "      <td>-0.027822</td>\n",
       "    </tr>\n",
       "    <tr>\n",
       "      <th>23</th>\n",
       "      <td>0.123890</td>\n",
       "      <td>-0.242080</td>\n",
       "      <td>-0.735438</td>\n",
       "      <td>-0.007103</td>\n",
       "      <td>0.167801</td>\n",
       "      <td>0.227620</td>\n",
       "      <td>-0.373878</td>\n",
       "      <td>-0.123845</td>\n",
       "      <td>0.152042</td>\n",
       "      <td>0.356516</td>\n",
       "      <td>...</td>\n",
       "      <td>-0.159805</td>\n",
       "      <td>-0.176852</td>\n",
       "      <td>-0.186623</td>\n",
       "      <td>-0.100804</td>\n",
       "      <td>0.347622</td>\n",
       "      <td>0.653960</td>\n",
       "      <td>-0.346739</td>\n",
       "      <td>0.154974</td>\n",
       "      <td>0.497199</td>\n",
       "      <td>0.588479</td>\n",
       "    </tr>\n",
       "    <tr>\n",
       "      <th>24</th>\n",
       "      <td>0.224411</td>\n",
       "      <td>-0.185436</td>\n",
       "      <td>-0.915458</td>\n",
       "      <td>-0.212330</td>\n",
       "      <td>-0.656635</td>\n",
       "      <td>-0.039989</td>\n",
       "      <td>0.687465</td>\n",
       "      <td>-0.008890</td>\n",
       "      <td>1.059092</td>\n",
       "      <td>0.697683</td>\n",
       "      <td>...</td>\n",
       "      <td>-0.362307</td>\n",
       "      <td>0.013105</td>\n",
       "      <td>-0.030760</td>\n",
       "      <td>-0.415140</td>\n",
       "      <td>-0.653305</td>\n",
       "      <td>-0.094842</td>\n",
       "      <td>-0.087310</td>\n",
       "      <td>0.170852</td>\n",
       "      <td>0.294257</td>\n",
       "      <td>0.353314</td>\n",
       "    </tr>\n",
       "    <tr>\n",
       "      <th>25</th>\n",
       "      <td>0.441515</td>\n",
       "      <td>0.325266</td>\n",
       "      <td>0.604156</td>\n",
       "      <td>-0.279837</td>\n",
       "      <td>-0.220499</td>\n",
       "      <td>0.053584</td>\n",
       "      <td>-0.574399</td>\n",
       "      <td>-0.129310</td>\n",
       "      <td>-0.225624</td>\n",
       "      <td>0.184215</td>\n",
       "      <td>...</td>\n",
       "      <td>0.193075</td>\n",
       "      <td>-0.075911</td>\n",
       "      <td>-0.001322</td>\n",
       "      <td>-0.083776</td>\n",
       "      <td>-0.242782</td>\n",
       "      <td>-0.180091</td>\n",
       "      <td>-0.165422</td>\n",
       "      <td>-0.062820</td>\n",
       "      <td>0.087202</td>\n",
       "      <td>-0.120202</td>\n",
       "    </tr>\n",
       "    <tr>\n",
       "      <th>26</th>\n",
       "      <td>1.451924</td>\n",
       "      <td>0.590767</td>\n",
       "      <td>-0.007247</td>\n",
       "      <td>0.431040</td>\n",
       "      <td>-0.281100</td>\n",
       "      <td>0.238297</td>\n",
       "      <td>-0.378895</td>\n",
       "      <td>-0.299471</td>\n",
       "      <td>0.302980</td>\n",
       "      <td>-0.435477</td>\n",
       "      <td>...</td>\n",
       "      <td>-0.129813</td>\n",
       "      <td>-0.131204</td>\n",
       "      <td>0.160821</td>\n",
       "      <td>0.978177</td>\n",
       "      <td>0.666182</td>\n",
       "      <td>-0.266376</td>\n",
       "      <td>1.453775</td>\n",
       "      <td>-0.538730</td>\n",
       "      <td>0.302811</td>\n",
       "      <td>0.141067</td>\n",
       "    </tr>\n",
       "    <tr>\n",
       "      <th>27</th>\n",
       "      <td>-0.730388</td>\n",
       "      <td>-0.185551</td>\n",
       "      <td>-0.076138</td>\n",
       "      <td>-0.035904</td>\n",
       "      <td>0.460113</td>\n",
       "      <td>-1.039327</td>\n",
       "      <td>-0.131416</td>\n",
       "      <td>-0.433561</td>\n",
       "      <td>-0.362550</td>\n",
       "      <td>-0.199397</td>\n",
       "      <td>...</td>\n",
       "      <td>-0.139152</td>\n",
       "      <td>-0.417501</td>\n",
       "      <td>-0.427808</td>\n",
       "      <td>-0.190336</td>\n",
       "      <td>0.417825</td>\n",
       "      <td>0.091969</td>\n",
       "      <td>0.000000</td>\n",
       "      <td>-0.077282</td>\n",
       "      <td>-0.111939</td>\n",
       "      <td>-0.150817</td>\n",
       "    </tr>\n",
       "    <tr>\n",
       "      <th>28</th>\n",
       "      <td>0.605457</td>\n",
       "      <td>-0.156565</td>\n",
       "      <td>0.303940</td>\n",
       "      <td>-0.349497</td>\n",
       "      <td>0.147304</td>\n",
       "      <td>-0.384149</td>\n",
       "      <td>-0.436290</td>\n",
       "      <td>-0.098162</td>\n",
       "      <td>0.245718</td>\n",
       "      <td>-0.087571</td>\n",
       "      <td>...</td>\n",
       "      <td>-0.063774</td>\n",
       "      <td>-0.526511</td>\n",
       "      <td>1.259976</td>\n",
       "      <td>-0.172805</td>\n",
       "      <td>0.632225</td>\n",
       "      <td>-0.080432</td>\n",
       "      <td>-0.145953</td>\n",
       "      <td>0.064164</td>\n",
       "      <td>0.049429</td>\n",
       "      <td>0.147956</td>\n",
       "    </tr>\n",
       "    <tr>\n",
       "      <th>29</th>\n",
       "      <td>0.327962</td>\n",
       "      <td>-0.095417</td>\n",
       "      <td>0.010386</td>\n",
       "      <td>-0.029022</td>\n",
       "      <td>0.163853</td>\n",
       "      <td>0.097410</td>\n",
       "      <td>0.059786</td>\n",
       "      <td>-0.184687</td>\n",
       "      <td>-0.013461</td>\n",
       "      <td>-0.064756</td>\n",
       "      <td>...</td>\n",
       "      <td>-0.083866</td>\n",
       "      <td>-0.076766</td>\n",
       "      <td>0.731649</td>\n",
       "      <td>-0.054927</td>\n",
       "      <td>0.147406</td>\n",
       "      <td>-0.186531</td>\n",
       "      <td>1.234278</td>\n",
       "      <td>-0.058226</td>\n",
       "      <td>-0.003266</td>\n",
       "      <td>-0.023781</td>\n",
       "    </tr>\n",
       "    <tr>\n",
       "      <th>30</th>\n",
       "      <td>0.352510</td>\n",
       "      <td>-0.044350</td>\n",
       "      <td>0.000926</td>\n",
       "      <td>-0.195819</td>\n",
       "      <td>-0.119052</td>\n",
       "      <td>-0.222997</td>\n",
       "      <td>-0.027065</td>\n",
       "      <td>0.024722</td>\n",
       "      <td>-0.469593</td>\n",
       "      <td>-0.094207</td>\n",
       "      <td>...</td>\n",
       "      <td>0.408841</td>\n",
       "      <td>-0.621256</td>\n",
       "      <td>0.000000</td>\n",
       "      <td>-0.285328</td>\n",
       "      <td>-0.160755</td>\n",
       "      <td>-0.126484</td>\n",
       "      <td>-0.151150</td>\n",
       "      <td>-0.171821</td>\n",
       "      <td>0.068415</td>\n",
       "      <td>-0.573974</td>\n",
       "    </tr>\n",
       "  </tbody>\n",
       "</table>\n",
       "<p>30 rows × 31 columns</p>\n",
       "</div>"
      ],
      "text/plain": [
       "lifetime                0         1         2         3         4         5   \\\n",
       "registration_day                                                               \n",
       "1                 0.079667 -0.020060 -0.064422 -0.148113 -0.192650  0.248676   \n",
       "2                -0.153404  0.092029 -0.176951 -0.142817 -0.228464 -0.014382   \n",
       "3                 0.206224 -0.027257 -0.081473 -0.252215 -0.000259  0.375573   \n",
       "4                 0.054829  0.270894 -0.134152  0.163905  0.147368  0.170959   \n",
       "5                 0.067675 -0.244261  0.500977 -0.008487  0.266062 -0.189722   \n",
       "6                 0.468188 -0.087301  0.091904  0.226552 -0.200056 -0.064755   \n",
       "7                 0.216798  0.169715  0.021174 -0.051078  0.112767  0.714172   \n",
       "8                 0.267786  0.292540  0.047742 -0.066764  0.012425  0.321930   \n",
       "9                 0.440379  0.003060  0.116754 -0.307495  0.423456  0.014860   \n",
       "10                0.330929  0.089799 -0.005516  0.001293 -0.291836  0.047360   \n",
       "11               -0.400440  0.415525  0.750468  0.284746 -0.314373 -0.108943   \n",
       "12                0.397678 -0.430120  0.491145  0.167458 -0.130081  0.649322   \n",
       "13                0.202438 -0.095780 -0.291391  0.659126 -0.061572 -0.093673   \n",
       "14                0.573432  0.107180  0.055776 -0.147553  0.396004  0.788583   \n",
       "15                0.503011  0.094911  0.012860  0.367910 -0.219154  0.848858   \n",
       "16                0.656493  0.269838 -0.091691 -0.293219 -0.085142 -0.142839   \n",
       "17                0.791726  0.625194  0.033198  0.876590  0.336441  0.432299   \n",
       "18                0.260333  0.233197  0.302039  0.337245  0.071141  1.140948   \n",
       "19                0.166728  0.356713 -0.094738  0.582861  0.115117 -0.078201   \n",
       "20                0.281697 -0.099977 -0.235664  0.268072 -0.176953  0.800842   \n",
       "21                0.338486  0.000172  0.021832  0.169844 -0.215870  0.395747   \n",
       "22                0.035220  0.066248 -0.257135 -0.446823  0.259069  0.366519   \n",
       "23                0.123890 -0.242080 -0.735438 -0.007103  0.167801  0.227620   \n",
       "24                0.224411 -0.185436 -0.915458 -0.212330 -0.656635 -0.039989   \n",
       "25                0.441515  0.325266  0.604156 -0.279837 -0.220499  0.053584   \n",
       "26                1.451924  0.590767 -0.007247  0.431040 -0.281100  0.238297   \n",
       "27               -0.730388 -0.185551 -0.076138 -0.035904  0.460113 -1.039327   \n",
       "28                0.605457 -0.156565  0.303940 -0.349497  0.147304 -0.384149   \n",
       "29                0.327962 -0.095417  0.010386 -0.029022  0.163853  0.097410   \n",
       "30                0.352510 -0.044350  0.000926 -0.195819 -0.119052 -0.222997   \n",
       "\n",
       "lifetime                6         7         8         9   ...        21  \\\n",
       "registration_day                                          ...             \n",
       "1                 0.921490  0.379312 -0.184826 -0.089229  ...  0.044067   \n",
       "2                -0.062789 -0.219775  0.047512  0.184180  ... -0.804292   \n",
       "3                -0.367441 -0.107182 -0.125108 -0.123886  ...  0.174448   \n",
       "4                -0.109980  0.005274  0.193601  0.647350  ... -0.152057   \n",
       "5                -0.056386  0.012165  0.069210  0.625168  ...  0.028473   \n",
       "6                 0.327265 -0.199217 -0.120199  0.110646  ...  0.310270   \n",
       "7                 0.125697  0.032160 -0.174834  0.131531  ...  0.183511   \n",
       "8                 0.204125 -0.301044 -0.093292  0.208893  ... -0.138336   \n",
       "9                 0.340270  0.493896 -0.059145 -0.472709  ... -0.074059   \n",
       "10               -0.096660  0.201210 -0.216260  0.065438  ...  0.004720   \n",
       "11                0.412008 -0.248662  0.313076  0.177945  ... -0.145373   \n",
       "12                0.380442 -0.128111 -0.103453  0.130379  ...  0.348638   \n",
       "13                0.180481  0.347241  0.008126  0.270283  ... -0.203276   \n",
       "14               -0.513923  0.049477  0.056902 -0.040874  ... -0.674000   \n",
       "15               -0.211239 -0.179851 -0.121389 -0.082977  ...  0.358145   \n",
       "16                0.047310 -0.060401 -0.551809 -0.383233  ... -0.083547   \n",
       "17               -0.129808  1.014617  0.065393 -0.084079  ... -0.081550   \n",
       "18               -0.131862  0.039059  0.087860  0.715206  ... -0.131251   \n",
       "19                0.231934 -0.021866 -0.104537  1.797708  ... -0.067459   \n",
       "20                0.855798 -0.248617  0.439850 -0.136404  ... -0.241280   \n",
       "21               -0.063478 -0.176411 -0.341318  1.308816  ... -0.129032   \n",
       "22               -0.022063  0.437717  0.159298  0.423765  ...  0.039417   \n",
       "23               -0.373878 -0.123845  0.152042  0.356516  ... -0.159805   \n",
       "24                0.687465 -0.008890  1.059092  0.697683  ... -0.362307   \n",
       "25               -0.574399 -0.129310 -0.225624  0.184215  ...  0.193075   \n",
       "26               -0.378895 -0.299471  0.302980 -0.435477  ... -0.129813   \n",
       "27               -0.131416 -0.433561 -0.362550 -0.199397  ... -0.139152   \n",
       "28               -0.436290 -0.098162  0.245718 -0.087571  ... -0.063774   \n",
       "29                0.059786 -0.184687 -0.013461 -0.064756  ... -0.083866   \n",
       "30               -0.027065  0.024722 -0.469593 -0.094207  ...  0.408841   \n",
       "\n",
       "lifetime                22        23        24        25        26        27  \\\n",
       "registration_day                                                               \n",
       "1                 0.551653  0.103482 -0.417546  0.054582  0.191723  1.046293   \n",
       "2                -0.017134  0.097562 -0.088593  1.178490  0.078065 -0.027403   \n",
       "3                -0.423997  0.437409 -0.160023  0.049826  0.076388 -0.253008   \n",
       "4                 0.231390 -0.274467  0.013603  0.017525 -0.019829 -0.118986   \n",
       "5                -0.054721  0.100363  0.384873  0.057946  0.481470  0.167695   \n",
       "6                -0.041371  0.001222 -0.120040 -0.247982  0.387222  0.866434   \n",
       "7                 0.023149 -0.164744  0.163706  0.176376  0.053796  0.208686   \n",
       "8                -0.047931  0.180390 -0.503043  0.132776  0.163646 -0.162046   \n",
       "9                -0.022782 -0.172682 -0.070342  0.026873  0.063255  0.265332   \n",
       "10               -0.036688 -0.016602  0.000000  0.144084 -0.062227  0.034384   \n",
       "11               -0.110743  0.103958 -0.001999  0.113900 -0.007861  0.013734   \n",
       "12               -0.524208 -0.030173 -0.288505  0.054143 -0.006113 -0.033773   \n",
       "13               -0.024066 -0.380219  0.064314 -0.304464  0.086805 -0.099238   \n",
       "14               -0.180506  0.340548 -0.244173  0.715211 -0.081610 -0.357918   \n",
       "15               -0.093830 -0.188492 -0.277959  0.120831 -0.140408 -0.342876   \n",
       "16               -0.128315 -0.339257  0.060394  0.294236 -0.026102  0.081390   \n",
       "17               -0.004412  0.692762 -0.422574  0.000000 -0.064447  0.195481   \n",
       "18                0.148941 -0.249091  0.118715 -0.059922 -0.469482 -0.306937   \n",
       "19               -0.280817  0.347355 -0.049842  0.092088  0.076351  0.049211   \n",
       "20                0.109364 -0.545620  0.352540  0.000000 -0.008997 -0.015093   \n",
       "21                1.085726  0.009309  0.093570  0.146305  0.000000  0.390956   \n",
       "22                0.077485 -0.550365  0.214298  0.000000 -0.219075 -0.596180   \n",
       "23               -0.176852 -0.186623 -0.100804  0.347622  0.653960 -0.346739   \n",
       "24                0.013105 -0.030760 -0.415140 -0.653305 -0.094842 -0.087310   \n",
       "25               -0.075911 -0.001322 -0.083776 -0.242782 -0.180091 -0.165422   \n",
       "26               -0.131204  0.160821  0.978177  0.666182 -0.266376  1.453775   \n",
       "27               -0.417501 -0.427808 -0.190336  0.417825  0.091969  0.000000   \n",
       "28               -0.526511  1.259976 -0.172805  0.632225 -0.080432 -0.145953   \n",
       "29               -0.076766  0.731649 -0.054927  0.147406 -0.186531  1.234278   \n",
       "30               -0.621256  0.000000 -0.285328 -0.160755 -0.126484 -0.151150   \n",
       "\n",
       "lifetime                28        29        30  \n",
       "registration_day                                \n",
       "1                 0.130606 -0.062351 -0.254574  \n",
       "2                 0.067689 -0.215194  0.621719  \n",
       "3                -0.095343  0.052796 -0.316597  \n",
       "4                 0.340497 -0.331050 -0.146816  \n",
       "5                 0.493598  0.037205  0.411542  \n",
       "6                -0.040443 -0.159818  0.000000  \n",
       "7                 1.758215  0.090593 -0.285376  \n",
       "8                 0.000000  1.153295 -0.341546  \n",
       "9                -0.370232  0.026622  0.000000  \n",
       "10               -0.578165 -0.412736  0.083390  \n",
       "11                0.021055 -0.006511 -0.114240  \n",
       "12               -0.102972  0.602613  0.309615  \n",
       "13                0.302826  0.331450  0.236962  \n",
       "14               -0.098964  0.059539  0.558937  \n",
       "15                0.000000  0.038244  0.072437  \n",
       "16                0.003712  0.000000 -0.038351  \n",
       "17               -0.017452 -0.237249 -0.159853  \n",
       "18               -0.092520 -0.812780 -0.389807  \n",
       "19                0.353810 -0.251518  0.044340  \n",
       "20                0.109000  0.293200  0.335435  \n",
       "21                0.122957  0.080976  0.099744  \n",
       "22                0.264678  0.250274 -0.027822  \n",
       "23                0.154974  0.497199  0.588479  \n",
       "24                0.170852  0.294257  0.353314  \n",
       "25               -0.062820  0.087202 -0.120202  \n",
       "26               -0.538730  0.302811  0.141067  \n",
       "27               -0.077282 -0.111939 -0.150817  \n",
       "28                0.064164  0.049429  0.147956  \n",
       "29               -0.058226 -0.003266 -0.023781  \n",
       "30               -0.171821  0.068415 -0.573974  \n",
       "\n",
       "[30 rows x 31 columns]"
      ]
     },
     "execution_count": 84,
     "metadata": {},
     "output_type": "execute_result"
    }
   ],
   "source": [
    "def prep_pvt_table_for_diff(df: 'Pandas DF, pivot table with date on index and lifetimes as columns') -> pd.DataFrame:\n",
    "    \"\"\"Подготовка датафреймов к вычитанию: переиндексация номерами дней в месяце и замена NaN-ов нулями\"\"\"\n",
    "    df = df.reset_index()\n",
    "    df['registration_day'] = df.registration_date.dt.day\n",
    "    df = df.set_index(['registration_day']).drop('registration_date', axis=1)\n",
    "    df = df.fillna(0).take(range(0,30), axis=0)\n",
    "    return df\n",
    "\n",
    "may_arpc_pvt = prep_pvt_table_for_diff(may_arpc_pvt)\n",
    "jun_arpc_pvt = prep_pvt_table_for_diff(jun_arpc_pvt)\n",
    "diff_arpc_pvt = jun_arpc_pvt - may_arpc_pvt\n",
    "diff_arpc_pvt"
   ]
  },
  {
   "cell_type": "code",
   "execution_count": 85,
   "metadata": {},
   "outputs": [
    {
     "data": {
      "image/png": "[encoded data removed]",
      "text/plain": [
       "<Figure size 1440x648 with 2 Axes>"
      ]
     },
     "metadata": {},
     "output_type": "display_data"
    }
   ],
   "source": [
    "plt.figure(figsize=(20, 9))\n",
    "plt.title('Cohorts: Difference of ARPC in June 2019 compared to May')\n",
    "sns.heatmap(diff_arpc_pvt, annot=False, fmt='.0%', linewidths=0, center=0.0, cmap=sns.color_palette(\"coolwarm\", 21))\n",
    "plt.show()"
   ]
  },
  {
   "cell_type": "markdown",
   "metadata": {},
   "source": [
    "Видно, что ARPC в июне повысился по сравнению с маем.  Если построить график средней разницы по когортам в зависимости от времени жизни, он будет в основном положительным:"
   ]
  },
  {
   "cell_type": "code",
   "execution_count": 90,
   "metadata": {},
   "outputs": [
    {
     "data": {
      "image/png": "[encoded data removed]",
      "text/plain": [
       "<Figure size 1440x648 with 1 Axes>"
      ]
     },
     "metadata": {},
     "output_type": "display_data"
    }
   ],
   "source": [
    "plt.figure(figsize=(20, 9))\n",
    "plt.title('Cohorts: Difference of average ARPC in June 2019 compared to May')\n",
    "diff_arpc_pvt.sum(axis=0, numeric_only=True).plot(kind='bar')\n",
    "plt.show()"
   ]
  },
  {
   "cell_type": "markdown",
   "metadata": {},
   "source": [
    "Мы выяснили, что каждый покупатель в июне платит немного больше.  Но может оказаться, что это компенсируется более низкой конверсией.  Нужно расчитать доход на пользователя, а не только на покупателя."
   ]
  }
 ],
 "metadata": {
  "kernelspec": {
   "display_name": "Python 3",
   "language": "python",
   "name": "python3"
  },
  "language_info": {
   "codemirror_mode": {
    "name": "ipython",
    "version": 3
   },
   "file_extension": ".py",
   "mimetype": "text/x-python",
   "name": "python",
   "nbconvert_exporter": "python",
   "pygments_lexer": "ipython3",
   "version": "3.8.1"
  }
 },
 "nbformat": 4,
 "nbformat_minor": 2
}
